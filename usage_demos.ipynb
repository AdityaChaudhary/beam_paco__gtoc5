{
 "cells": [
  {
   "cell_type": "markdown",
   "metadata": {},
   "source": [
    "<h1 id=\"tocheading\">Table of Contents</h1>\n",
    "<div id=\"toc\"></div>"
   ]
  },
  {
   "cell_type": "code",
   "execution_count": 1,
   "metadata": {
    "collapsed": false
   },
   "outputs": [
    {
     "data": {
      "application/javascript": [
       "$.getScript('https://kmahelona.github.io/ipython_notebook_goodies/ipython_notebook_toc.js')\n",
       "// https://github.com/kmahelona/ipython_notebook_goodies"
      ],
      "text/plain": [
       "<IPython.core.display.Javascript object>"
      ]
     },
     "metadata": {},
     "output_type": "display_data"
    }
   ],
   "source": [
    "%%javascript\n",
    "$.getScript('https://kmahelona.github.io/ipython_notebook_goodies/ipython_notebook_toc.js')\n",
    "// https://github.com/kmahelona/ipython_notebook_goodies"
   ]
  },
  {
   "cell_type": "markdown",
   "metadata": {},
   "source": [
    "---"
   ]
  },
  {
   "cell_type": "code",
   "execution_count": 2,
   "metadata": {
    "collapsed": true
   },
   "outputs": [],
   "source": [
    "import PyKEP as pk"
   ]
  },
  {
   "cell_type": "code",
   "execution_count": 3,
   "metadata": {
    "collapsed": true
   },
   "outputs": [],
   "source": [
    "import numpy as np"
   ]
  },
  {
   "cell_type": "code",
   "execution_count": 4,
   "metadata": {
    "collapsed": true
   },
   "outputs": [],
   "source": [
    "import matplotlib.pylab as plt\n",
    "%matplotlib inline\n",
    "import seaborn as sns\n",
    "plt.rcParams['figure.figsize'] = 10, 8"
   ]
  },
  {
   "cell_type": "code",
   "execution_count": 5,
   "metadata": {
    "collapsed": true
   },
   "outputs": [],
   "source": [
    "from gtoc5 import *\n",
    "from gtoc5.multiobjective import *\n",
    "from gtoc5.phasing import *"
   ]
  },
  {
   "cell_type": "code",
   "execution_count": 6,
   "metadata": {
    "collapsed": true
   },
   "outputs": [],
   "source": [
    "from paco import *"
   ]
  },
  {
   "cell_type": "code",
   "execution_count": 7,
   "metadata": {
    "collapsed": true
   },
   "outputs": [],
   "source": [
    "from paco_traj import *\n",
    "from experiments import *\n",
    "from experiments__paco import *"
   ]
  },
  {
   "cell_type": "markdown",
   "metadata": {
    "deletable": true,
    "editable": true
   },
   "source": [
    "---"
   ]
  },
  {
   "cell_type": "markdown",
   "metadata": {
    "deletable": true,
    "editable": true
   },
   "source": [
    "Let's take a look at our Python environment"
   ]
  },
  {
   "cell_type": "code",
   "execution_count": 8,
   "metadata": {
    "collapsed": false,
    "deletable": true,
    "editable": true,
    "scrolled": true
   },
   "outputs": [
    {
     "name": "stdout",
     "output_type": "stream",
     "text": [
      "CPython 3.5.3\n",
      "IPython 5.3.0\n",
      "\n",
      "PyKEP {'bugfix': 9, 'major': 1, 'minor': 3}\n",
      "numpy 1.12.1\n",
      "scipy 0.19.0\n",
      "tqdm 4.11.2\n",
      "pandas 0.19.2\n",
      "matplotlib 2.0.0\n",
      "seaborn 0.7.1\n",
      "\n",
      "compiler   : MSC v.1900 64 bit (AMD64)\n",
      "system     : Windows\n",
      "release    : 10\n",
      "machine    : AMD64\n",
      "processor  : Intel64 Family 6 Model 94 Stepping 3, GenuineIntel\n",
      "CPU cores  : 8\n",
      "interpreter: 64bit\n"
     ]
    }
   ],
   "source": [
    "%load_ext watermark\n",
    "%watermark -v -m -p PyKEP,numpy,scipy,tqdm,pandas,matplotlib,seaborn\n",
    "# https://github.com/rasbt/watermark"
   ]
  },
  {
   "cell_type": "markdown",
   "metadata": {
    "deletable": true,
    "editable": true
   },
   "source": [
    "---"
   ]
  },
  {
   "cell_type": "markdown",
   "metadata": {},
   "source": [
    "# Solving a TSPLIB problem with P-ACO"
   ]
  },
  {
   "cell_type": "markdown",
   "metadata": {},
   "source": [
    "Let's download from the [TSPLIB](http://comopt.ifi.uni-heidelberg.de/software/TSPLIB95/) the symmetric TSP problem instance `eil101` (101 cities, total distance in best known solution: 629)."
   ]
  },
  {
   "cell_type": "code",
   "execution_count": 9,
   "metadata": {
    "collapsed": true,
    "deletable": true,
    "editable": true
   },
   "outputs": [],
   "source": [
    "from urllib.request import urlretrieve\n",
    "import gzip"
   ]
  },
  {
   "cell_type": "code",
   "execution_count": 10,
   "metadata": {
    "collapsed": false
   },
   "outputs": [],
   "source": [
    "urlretrieve('http://comopt.ifi.uni-heidelberg.de/software/TSPLIB95/tsp/eil101.tsp.gz', filename='eil101.tsp.gz');"
   ]
  },
  {
   "cell_type": "markdown",
   "metadata": {},
   "source": [
    "Load each city's (x, y) coordinates"
   ]
  },
  {
   "cell_type": "code",
   "execution_count": 11,
   "metadata": {
    "collapsed": false,
    "scrolled": true
   },
   "outputs": [
    {
     "data": {
      "text/plain": [
       "array([[41, 49],\n",
       "       [35, 17],\n",
       "       [55, 45],\n",
       "       [55, 20],\n",
       "       [15, 30]])"
      ]
     },
     "execution_count": 11,
     "metadata": {},
     "output_type": "execute_result"
    }
   ],
   "source": [
    "with gzip.open('eil101.tsp.gz') as f:\n",
    "    xy_locs = np.loadtxt(f, skiprows=6, usecols=(1,2), comments='EOF', dtype=np.int)\n",
    "nr_cities = len(xy_locs)\n",
    "xy_locs[:5]"
   ]
  },
  {
   "cell_type": "markdown",
   "metadata": {},
   "source": [
    "Calculate distances matrix"
   ]
  },
  {
   "cell_type": "code",
   "execution_count": 12,
   "metadata": {
    "collapsed": false
   },
   "outputs": [
    {
     "data": {
      "text/plain": [
       "array([[  0.        ,  32.55764119,  14.56021978,  32.20248438],\n",
       "       [ 32.55764119,   0.        ,  34.40930107,  20.22374842],\n",
       "       [ 14.56021978,  34.40930107,   0.        ,  25.        ],\n",
       "       [ 32.20248438,  20.22374842,  25.        ,   0.        ]])"
      ]
     },
     "execution_count": 12,
     "metadata": {},
     "output_type": "execute_result"
    }
   ],
   "source": [
    "distances = np.zeros((nr_cities, nr_cities))\n",
    "for a in range(nr_cities):\n",
    "    for b in range(a, nr_cities):\n",
    "        distances[a,b] = distances[b,a] = np.linalg.norm(xy_locs[a] - xy_locs[b])\n",
    "\n",
    "distances[:4, :4]"
   ]
  },
  {
   "cell_type": "markdown",
   "metadata": {},
   "source": [
    "Instantiate the TSP \"path handler\" with this distances matrix"
   ]
  },
  {
   "cell_type": "code",
   "execution_count": 13,
   "metadata": {
    "collapsed": true
   },
   "outputs": [],
   "source": [
    "path_handler = tsp_path(distances)"
   ]
  },
  {
   "cell_type": "markdown",
   "metadata": {},
   "source": [
    "Instantiate P-ACO, using the default parameters"
   ]
  },
  {
   "cell_type": "code",
   "execution_count": 14,
   "metadata": {
    "collapsed": false
   },
   "outputs": [
    {
     "name": "stdout",
     "output_type": "stream",
     "text": [
      "Seed: 1972930898\n"
     ]
    }
   ],
   "source": [
    "rng, seed = initialize_rng(seed=None); print('Seed:', seed)\n",
    "aco = paco(path_handler.nr_nodes, path_handler, random_state=rng)"
   ]
  },
  {
   "cell_type": "markdown",
   "metadata": {
    "deletable": true,
    "editable": true
   },
   "source": [
    "Solve it, using a low number of generations"
   ]
  },
  {
   "cell_type": "code",
   "execution_count": 15,
   "metadata": {
    "collapsed": false
   },
   "outputs": [
    {
     "name": "stdout",
     "output_type": "stream",
     "text": [
      "Wall time: 6.97 s\n"
     ]
    },
    {
     "data": {
      "text/plain": [
       "651.4793842092497"
      ]
     },
     "execution_count": 15,
     "metadata": {},
     "output_type": "execute_result"
    }
   ],
   "source": [
    "%time (quality, best) = aco.solve(nr_generations=100, reinitialize=True)\n",
    "quality"
   ]
  },
  {
   "cell_type": "markdown",
   "metadata": {},
   "source": [
    "Let's see what we found"
   ]
  },
  {
   "cell_type": "code",
   "execution_count": 16,
   "metadata": {
    "collapsed": false,
    "scrolled": false
   },
   "outputs": [
    {
     "data": {
      "image/png": "[encoded data removed]",
      "text/plain": [
       "<matplotlib.figure.Figure at 0x1d47c2ce0f0>"
      ]
     },
     "metadata": {},
     "output_type": "display_data"
    }
   ],
   "source": [
    "ax = plt.gca()\n",
    "xy = np.vstack([xy_locs[best], xy_locs[best][0]]) # to connect back to the start\n",
    "line, = ax.plot(xy[:,0], xy[:,1], 'go-')"
   ]
  },
  {
   "cell_type": "markdown",
   "metadata": {
    "deletable": true,
    "editable": true
   },
   "source": [
    "# Finding a GTOC5 trajectory of score 17 with Beam Search"
   ]
  },
  {
   "cell_type": "code",
   "execution_count": 17,
   "metadata": {
    "collapsed": false,
    "deletable": true,
    "editable": true
   },
   "outputs": [],
   "source": [
    "gtoc_ph = init__path_handler(multiobj_evals=True)"
   ]
  },
  {
   "cell_type": "code",
   "execution_count": 18,
   "metadata": {
    "collapsed": false
   },
   "outputs": [],
   "source": [
    "# configuring Beam P-ACO to behave as a deterministic multi-objective Beam Search\n",
    "_args = {\n",
    "    'beam_width': 20,\n",
    "    'branch_factor': 250,\n",
    "    'alpha': 0.0,        # 0.0: no pheromones used\n",
    "    'beta': 1.0,\n",
    "    'prob_greedy': 1.0,  # 1.0: deterministic, greedy branching decisions\n",
    "    }"
   ]
  },
  {
   "cell_type": "code",
   "execution_count": 19,
   "metadata": {
    "collapsed": true
   },
   "outputs": [],
   "source": [
    "bpaco = beam_paco_pareto(nr_nodes=len(asteroids), path_handler=gtoc_ph, random_state=None, **_args)"
   ]
  },
  {
   "cell_type": "code",
   "execution_count": 20,
   "metadata": {
    "collapsed": false
   },
   "outputs": [
    {
     "name": "stdout",
     "output_type": "stream",
     "text": [
      "Wall time: 2min 10s\n"
     ]
    }
   ],
   "source": [
    "# start the search\n",
    "# given we're running the algoritm in deterministic mode, we execute it for a single generation\n",
    "%time best_pf = bpaco.solve(nr_generations=1)"
   ]
  },
  {
   "cell_type": "code",
   "execution_count": 21,
   "metadata": {
    "collapsed": false
   },
   "outputs": [],
   "source": [
    "# being this a `_pareto` class, .best returns a Pareto front\n",
    "# pick the first solution from the Pareto front\n",
    "best_eval, best = best_pf[0]"
   ]
  },
  {
   "cell_type": "code",
   "execution_count": 22,
   "metadata": {
    "collapsed": false
   },
   "outputs": [
    {
     "data": {
      "text/plain": [
       "(17.0, 3496.8299418637093, 14.824982263414686)"
      ]
     },
     "execution_count": 22,
     "metadata": {},
     "output_type": "execute_result"
    }
   ],
   "source": [
    "# Evaluation of the best found solution\n",
    "# (score, mass consumed, time of flight)\n",
    "best_eval"
   ]
  },
  {
   "cell_type": "code",
   "execution_count": 23,
   "metadata": {
    "collapsed": false
   },
   "outputs": [
    {
     "name": "stdout",
     "output_type": "stream",
     "text": [
      "[0, 1712, 4893, 2579, 6979, 5469, 6740, 2445, 6301, 5174, 5884, 4165, 4028, 6240, 3988, 1779, 6813, 3243]\n"
     ]
    }
   ],
   "source": [
    "# sequence of asteroids visited (0 is the Earth)\n",
    "print(seq(best, incl_flyby=False))"
   ]
  },
  {
   "cell_type": "code",
   "execution_count": 24,
   "metadata": {
    "collapsed": false
   },
   "outputs": [
    {
     "data": {
      "text/plain": [
       "[(0, 4000.0, 59127.205255048466, 0.0, 0.0),\n",
       " (1712,\n",
       "  3872.530999146394,\n",
       "  59181.08381655966,\n",
       "  53.87856151119195,\n",
       "  650.4716282561097),\n",
       " (1712,\n",
       "  3746.481928641157,\n",
       "  59325.360311294986,\n",
       "  144.27649473533114,\n",
       "  965.6854249492379),\n",
       " (4893,\n",
       "  3602.066962005158,\n",
       "  59582.911331703152,\n",
       "  257.55102040816325,\n",
       "  831.5807789590044),\n",
       " (4893,\n",
       "  3484.7515275785117,\n",
       "  59717.111314916867,\n",
       "  134.19998321371767,\n",
       "  965.6854249492379)]"
      ]
     },
     "execution_count": 24,
     "metadata": {},
     "output_type": "execute_result"
    }
   ],
   "source": [
    "# mission data structure, up to the full scoring of the first two asteroids\n",
    "best[:5]"
   ]
  }
 ],
 "metadata": {
  "kernelspec": {
   "display_name": "Python 3",
   "language": "python",
   "name": "python3"
  },
  "language_info": {
   "codemirror_mode": {
    "name": "ipython",
    "version": 3
   },
   "file_extension": ".py",
   "mimetype": "text/x-python",
   "name": "python",
   "nbconvert_exporter": "python",
   "pygments_lexer": "ipython3",
   "version": "3.5.3"
  }
 },
 "nbformat": 4,
 "nbformat_minor": 2
}
